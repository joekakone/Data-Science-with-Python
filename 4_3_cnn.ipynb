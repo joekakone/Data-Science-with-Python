{
 "cells": [
  {
   "cell_type": "markdown",
   "metadata": {},
   "source": [
    "# Module 4: Deep Learning - Apprentissage supervisé\n",
    "\n",
    "* Partie 4.1: Perceptron [[Notebook]](4_1_perceptron.ipynb)\n",
    "* Partie 4.2: Perceptron Multi Couches [[Notebook]](4_2_mlp.ipynb)\n",
    "* **Partie 4.3: Réseaux de neurones convolutionnels** [[Notebook]](4_3_cnn.ipynb)"
   ]
  },
  {
   "cell_type": "markdown",
   "metadata": {},
   "source": [
    "# Partie 4.1: Réseau de neurones convolutionnels\n",
    "Un réseau de neurones convolutionnels est un empilement de couches convolutionnelles, de Pooling\n",
    "\n",
    "Le perceptron est composé de\n",
    "#### Convolution\n",
    "1. Nombre de filtres **K**\n",
    "2. Taille des filtres **F**: chaque filtre a `F*F*D` comme dimension\n",
    "3. Le pas **S**\n",
    "4. Le zéro-padding **P**\n",
    "\n",
    "#### Pooling\n",
    "1. Taille des cellules **F**\n",
    "2. Le pas **S**"
   ]
  },
  {
   "cell_type": "markdown",
   "metadata": {},
   "source": [
    "## Importation des données\n",
    "Nous utiliserons le jeu de données MNIST. Il s'agit de chiffres manuscrits"
   ]
  },
  {
   "cell_type": "code",
   "execution_count": 61,
   "metadata": {},
   "outputs": [],
   "source": [
    "from tensorflow.keras.datasets import mnist\n",
    "\n",
    "(X_train, y_train), (X_test, y_test) = mnist.load_data()\n",
    "\n",
    "X_train = X_train.reshape((X_train.shape[0], X_train.shape[1], X_train.shape[2], 1))\n",
    "X_test = X_test.reshape((X_test.shape[0], X_test.shape[1], X_test.shape[2], 1))"
   ]
  },
  {
   "cell_type": "code",
   "execution_count": 49,
   "metadata": {},
   "outputs": [],
   "source": [
    "num_classes = 10\n",
    "width, height, num_channels = X_train.shape[1], X_train.shape[2], X_train.shape[3]"
   ]
  },
  {
   "cell_type": "code",
   "execution_count": 60,
   "metadata": {},
   "outputs": [],
   "source": [
    "from tensorflow.keras.models import Sequential\n",
    "from tensorflow.keras.layers import Conv2D, MaxPooling2D, Flatten, Dense, Activation\n",
    "from tensorflow.keras.optimizers import RMSprop"
   ]
  },
  {
   "cell_type": "code",
   "execution_count": 63,
   "metadata": {},
   "outputs": [],
   "source": [
    "model = Sequential()\n",
    "\n",
    "model.add(Conv2D(16, (3, 3), input_shape=(width, height, num_channels)))\n",
    "model.add(Conv2D(16, (3, 3)))\n",
    "model.add(MaxPooling2D(2, 2))\n",
    "\n",
    "model.add(Conv2D(16, (3, 3)))\n",
    "model.add(Conv2D(16, (3, 3)))\n",
    "model.add(MaxPooling2D(2, 2))\n",
    "\n",
    "model.add(Flatten())\n",
    "\n",
    "model.add(Dense(units=16, activation='relu'))\n",
    "model.add(Dense(units=32, activation='relu'))\n",
    "model.add(Dense(units=num_classes, activation='softmax'))"
   ]
  },
  {
   "cell_type": "code",
   "execution_count": 64,
   "metadata": {},
   "outputs": [
    {
     "name": "stdout",
     "output_type": "stream",
     "text": [
      "Model: \"sequential_12\"\n",
      "_________________________________________________________________\n",
      "Layer (type)                 Output Shape              Param #   \n",
      "=================================================================\n",
      "conv2d_37 (Conv2D)           (None, 26, 26, 16)        160       \n",
      "_________________________________________________________________\n",
      "conv2d_38 (Conv2D)           (None, 24, 24, 16)        2320      \n",
      "_________________________________________________________________\n",
      "max_pooling2d_23 (MaxPooling (None, 12, 12, 16)        0         \n",
      "_________________________________________________________________\n",
      "conv2d_39 (Conv2D)           (None, 10, 10, 16)        2320      \n",
      "_________________________________________________________________\n",
      "conv2d_40 (Conv2D)           (None, 8, 8, 16)          2320      \n",
      "_________________________________________________________________\n",
      "max_pooling2d_24 (MaxPooling (None, 4, 4, 16)          0         \n",
      "_________________________________________________________________\n",
      "flatten_10 (Flatten)         (None, 256)               0         \n",
      "_________________________________________________________________\n",
      "dense_33 (Dense)             (None, 16)                4112      \n",
      "_________________________________________________________________\n",
      "dense_34 (Dense)             (None, 32)                544       \n",
      "_________________________________________________________________\n",
      "dense_35 (Dense)             (None, 10)                330       \n",
      "=================================================================\n",
      "Total params: 12,106\n",
      "Trainable params: 12,106\n",
      "Non-trainable params: 0\n",
      "_________________________________________________________________\n"
     ]
    }
   ],
   "source": [
    "model.summary()"
   ]
  },
  {
   "cell_type": "code",
   "execution_count": 65,
   "metadata": {},
   "outputs": [],
   "source": [
    "optimizer = RMSprop(lr=1e-4)\n",
    "\n",
    "model.compile(loss='sparse_categorical_crossentropy', optimizer=optimizer, metrics=['acc'])"
   ]
  },
  {
   "cell_type": "code",
   "execution_count": 67,
   "metadata": {},
   "outputs": [
    {
     "name": "stdout",
     "output_type": "stream",
     "text": [
      "Epoch 1/10\n",
      "60000/60000 [==============================] - 190s 3ms/sample - loss: 2.4299 - acc: 0.2317\n",
      "Epoch 2/10\n",
      "60000/60000 [==============================] - 199s 3ms/sample - loss: 1.6086 - acc: 0.4208\n",
      "Epoch 3/10\n",
      "60000/60000 [==============================] - 185s 3ms/sample - loss: 1.0251 - acc: 0.6735\n",
      "Epoch 4/10\n",
      "60000/60000 [==============================] - 173s 3ms/sample - loss: 0.6822 - acc: 0.7919\n",
      "Epoch 5/10\n",
      "60000/60000 [==============================] - 189s 3ms/sample - loss: 0.4941 - acc: 0.8522\n",
      "Epoch 6/10\n",
      "60000/60000 [==============================] - 190s 3ms/sample - loss: 0.3609 - acc: 0.8979\n",
      "Epoch 7/10\n",
      "60000/60000 [==============================] - 177s 3ms/sample - loss: 0.2868 - acc: 0.9203\n",
      "Epoch 8/10\n",
      "60000/60000 [==============================] - 191s 3ms/sample - loss: 0.2364 - acc: 0.9340\n",
      "Epoch 9/10\n",
      "60000/60000 [==============================] - 201s 3ms/sample - loss: 0.2022 - acc: 0.9434\n",
      "Epoch 10/10\n",
      "60000/60000 [==============================] - 204s 3ms/sample - loss: 0.1790 - acc: 0.9492\n"
     ]
    },
    {
     "data": {
      "text/plain": [
       "<tensorflow.python.keras.callbacks.History at 0x7fa78fc93650>"
      ]
     },
     "execution_count": 67,
     "metadata": {},
     "output_type": "execute_result"
    }
   ],
   "source": [
    "history = model.fit(X_train, y_train, epochs=10, batch_size=64)"
   ]
  },
  {
   "cell_type": "code",
   "execution_count": 68,
   "metadata": {},
   "outputs": [
    {
     "name": "stdout",
     "output_type": "stream",
     "text": [
      "10000/10000 [==============================] - 13s 1ms/sample - loss: 0.1822 - acc: 0.9492\n",
      "Loss: 0.1822242422774434\n",
      "Accuracy: 0.9492\n"
     ]
    }
   ],
   "source": [
    "loss, acc = model.evaluate(X_test, y_test, batch_size=64)\n",
    "\n",
    "print('Loss:', loss)\n",
    "print('Accuracy:', acc)"
   ]
  },
  {
   "cell_type": "code",
   "execution_count": 70,
   "metadata": {},
   "outputs": [],
   "source": [
    "model.save('models/model-4_3_cnn.h5')"
   ]
  },
  {
   "cell_type": "markdown",
   "metadata": {},
   "source": [
    "Si la probabilté est supérieure à 0.5 la classe 1 est associée à la donnée sinon la classe 0"
   ]
  },
  {
   "cell_type": "markdown",
   "metadata": {},
   "source": [
    "### Limites \n",
    "Un seul neurone ne permet pas de répondre à des problèmes complexes. Ainsi, lorsque les exemples ne peuvent pas\n",
    "être séparés par une droite, un seul neurone échoue.\n",
    "Dans le prochain cahier, nous aborderons les réseaux de neurones qui permettent de s'affranchier de cette limite."
   ]
  },
  {
   "cell_type": "markdown",
   "metadata": {},
   "source": [
    "**Références**\n",
    "\n",
    "**Contribuer à ce projet**\n",
    "Toute contribution de votre part serait vivement appréciée. Si vous souhaiter contribuer à ce projet, merci de consulter ce guide [CONTRIBUTING](CONTRIBUTING.md)\n",
    "\n",
    "**Signaler un bug**\n",
    "Si vous avez rencontré un bug durant l'éxecution de ce notebook, pour le signaler, il suffit d'ouvrir une _issue_.\n",
    "\n",
    "**Sponsors**\n",
    "* [Rintio]()\n",
    "* [Solidar'IT]()\n",
    "\n",
    "**Copyright & Licence**\n",
    "Sous licence MIT"
   ]
  }
 ],
 "metadata": {
  "kernelspec": {
   "display_name": "Python 3",
   "language": "python",
   "name": "python3"
  },
  "language_info": {
   "codemirror_mode": {
    "name": "ipython",
    "version": 3
   },
   "file_extension": ".py",
   "mimetype": "text/x-python",
   "name": "python",
   "nbconvert_exporter": "python",
   "pygments_lexer": "ipython3",
   "version": "3.7.7"
  }
 },
 "nbformat": 4,
 "nbformat_minor": 4
}
