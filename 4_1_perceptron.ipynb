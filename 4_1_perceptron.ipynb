{
 "cells": [
  {
   "cell_type": "markdown",
   "metadata": {},
   "source": [
    "# Module 4: Deep Learning - Apprentissage supervisé\n",
    "\n",
    "* **Partie 4.1: Perceptron** [[Notebook]](4_1_perceptron.ipynb)\n",
    "* Partie 4.2: Perceptron Multi Couches [[Notebook]](4_2_mlp.ipynb)\n",
    "* Partie 4.3: Réseaux de neurones convolutionnels [[Notebook]](4_3_cnn.ipynb)"
   ]
  },
  {
   "cell_type": "markdown",
   "metadata": {},
   "source": [
    "# Partie 4.1: Perceptron\n",
    "Le perceptron, encore appelé neurone artificiel ou neurone formel est un modèle mathématique qui permet de résoudre des problèmes de classification binaire.\n",
    "\n",
    "Le perceptron est composé de\n",
    "* une fonction somme pondérée\n",
    "* une fonction d'activation"
   ]
  },
  {
   "cell_type": "markdown",
   "metadata": {},
   "source": [
    "## Rappels\n",
    "Pour faire du machine learning nous avons besoin de:\n",
    "\n",
    "Un projet de machine learning est caractérisé par:\n",
    "\n",
    "## 1. un problème\n",
    "Ici dans le cadre de l'apprentissage supervisé, il s'agira d'un poblème de classification ou de régression\n",
    "\n",
    "## 2. des données\n",
    ">_Pas de données, pas de machine learning_\n",
    "\n",
    "## 2. un modèle\n",
    "Un modèle est une fonction mathématique\n",
    "\n",
    "## 4. une fonction de côut\n",
    "Encore appelée fonction de perte ou fonction d'erreur\n",
    "Une fonction de coût est une m\n",
    "\n",
    "## 5. une méthode d'optimisation\n",
    "Une méthode d'optimisation a pour objectif la minimisation de la fonction de coût."
   ]
  },
  {
   "cell_type": "markdown",
   "metadata": {},
   "source": [
    "## Importation des données\n",
    "Le jeu de donnés contient des donnés récuellies chez des patients, il comporte 100 lignes et 9 colonnes. La colonne <i>diagnosis_result</i> est la variable à expliquer qui represente le resultat du diagnostic. Les 8 dernières colonnes représentent les variables explicatives."
   ]
  },
  {
   "cell_type": "code",
   "execution_count": 2,
   "metadata": {},
   "outputs": [
    {
     "data": {
      "text/html": [
       "<div>\n",
       "<style scoped>\n",
       "    .dataframe tbody tr th:only-of-type {\n",
       "        vertical-align: middle;\n",
       "    }\n",
       "\n",
       "    .dataframe tbody tr th {\n",
       "        vertical-align: top;\n",
       "    }\n",
       "\n",
       "    .dataframe thead th {\n",
       "        text-align: right;\n",
       "    }\n",
       "</style>\n",
       "<table border=\"1\" class=\"dataframe\">\n",
       "  <thead>\n",
       "    <tr style=\"text-align: right;\">\n",
       "      <th></th>\n",
       "      <th>diagnosis_result</th>\n",
       "      <th>radius</th>\n",
       "      <th>texture</th>\n",
       "      <th>perimeter</th>\n",
       "      <th>area</th>\n",
       "      <th>smoothness</th>\n",
       "      <th>compactness</th>\n",
       "      <th>symmetry</th>\n",
       "      <th>fractal_dimension</th>\n",
       "    </tr>\n",
       "    <tr>\n",
       "      <th>id</th>\n",
       "      <th></th>\n",
       "      <th></th>\n",
       "      <th></th>\n",
       "      <th></th>\n",
       "      <th></th>\n",
       "      <th></th>\n",
       "      <th></th>\n",
       "      <th></th>\n",
       "      <th></th>\n",
       "    </tr>\n",
       "  </thead>\n",
       "  <tbody>\n",
       "    <tr>\n",
       "      <th>1</th>\n",
       "      <td>M</td>\n",
       "      <td>23</td>\n",
       "      <td>12</td>\n",
       "      <td>151</td>\n",
       "      <td>954</td>\n",
       "      <td>0.143</td>\n",
       "      <td>0.278</td>\n",
       "      <td>0.242</td>\n",
       "      <td>0.079</td>\n",
       "    </tr>\n",
       "    <tr>\n",
       "      <th>2</th>\n",
       "      <td>B</td>\n",
       "      <td>9</td>\n",
       "      <td>13</td>\n",
       "      <td>133</td>\n",
       "      <td>1326</td>\n",
       "      <td>0.143</td>\n",
       "      <td>0.079</td>\n",
       "      <td>0.181</td>\n",
       "      <td>0.057</td>\n",
       "    </tr>\n",
       "    <tr>\n",
       "      <th>3</th>\n",
       "      <td>M</td>\n",
       "      <td>21</td>\n",
       "      <td>27</td>\n",
       "      <td>130</td>\n",
       "      <td>1203</td>\n",
       "      <td>0.125</td>\n",
       "      <td>0.160</td>\n",
       "      <td>0.207</td>\n",
       "      <td>0.060</td>\n",
       "    </tr>\n",
       "    <tr>\n",
       "      <th>4</th>\n",
       "      <td>M</td>\n",
       "      <td>14</td>\n",
       "      <td>16</td>\n",
       "      <td>78</td>\n",
       "      <td>386</td>\n",
       "      <td>0.070</td>\n",
       "      <td>0.284</td>\n",
       "      <td>0.260</td>\n",
       "      <td>0.097</td>\n",
       "    </tr>\n",
       "    <tr>\n",
       "      <th>5</th>\n",
       "      <td>M</td>\n",
       "      <td>9</td>\n",
       "      <td>19</td>\n",
       "      <td>135</td>\n",
       "      <td>1297</td>\n",
       "      <td>0.141</td>\n",
       "      <td>0.133</td>\n",
       "      <td>0.181</td>\n",
       "      <td>0.059</td>\n",
       "    </tr>\n",
       "  </tbody>\n",
       "</table>\n",
       "</div>"
      ],
      "text/plain": [
       "   diagnosis_result  radius  texture  perimeter  area  smoothness  \\\n",
       "id                                                                  \n",
       "1                 M      23       12        151   954       0.143   \n",
       "2                 B       9       13        133  1326       0.143   \n",
       "3                 M      21       27        130  1203       0.125   \n",
       "4                 M      14       16         78   386       0.070   \n",
       "5                 M       9       19        135  1297       0.141   \n",
       "\n",
       "    compactness  symmetry  fractal_dimension  \n",
       "id                                            \n",
       "1         0.278     0.242              0.079  \n",
       "2         0.079     0.181              0.057  \n",
       "3         0.160     0.207              0.060  \n",
       "4         0.284     0.260              0.097  \n",
       "5         0.133     0.181              0.059  "
      ]
     },
     "execution_count": 2,
     "metadata": {},
     "output_type": "execute_result"
    }
   ],
   "source": [
    "import pandas as pd\n",
    "dt = pd.read_csv('datasets/Prostate_Cancer.csv', index_col='id')\n",
    "dt.head()"
   ]
  },
  {
   "cell_type": "code",
   "execution_count": 25,
   "metadata": {},
   "outputs": [],
   "source": [
    "y = dt.iloc[:, 0].values\n",
    "X = dt.iloc[:, 1:].values"
   ]
  },
  {
   "cell_type": "code",
   "execution_count": 39,
   "metadata": {},
   "outputs": [],
   "source": [
    "from sklearn.model_selection import train_test_split\n",
    "from sklearn.preprocessing import LabelEncoder"
   ]
  },
  {
   "cell_type": "code",
   "execution_count": 40,
   "metadata": {},
   "outputs": [],
   "source": [
    "encoder = LabelEncoder().fit(y)\n",
    "y = encoder.transform(y)"
   ]
  },
  {
   "cell_type": "code",
   "execution_count": 41,
   "metadata": {},
   "outputs": [],
   "source": [
    "n_features = X.shape[1]"
   ]
  },
  {
   "cell_type": "code",
   "execution_count": 46,
   "metadata": {},
   "outputs": [],
   "source": [
    "X_train, X_val, y_train, y_val = train_test_split(X, y, stratify=y, test_size=.2)"
   ]
  },
  {
   "cell_type": "code",
   "execution_count": null,
   "metadata": {},
   "outputs": [],
   "source": []
  },
  {
   "cell_type": "code",
   "execution_count": 30,
   "metadata": {},
   "outputs": [],
   "source": [
    "import tensorflow as tf\n",
    "from tensorflow.keras.models import Sequential\n",
    "from tensorflow.keras.layers import Dense, Activation\n",
    "from tensorflow.keras.optimizers import RMSprop"
   ]
  },
  {
   "cell_type": "code",
   "execution_count": 31,
   "metadata": {},
   "outputs": [],
   "source": [
    "model = Sequential()\n",
    "\n",
    "model.add(Dense(units=1, input_dim=n_features))\n",
    "\n",
    "model.add(Activation(activation='sigmoid'))"
   ]
  },
  {
   "cell_type": "code",
   "execution_count": 32,
   "metadata": {},
   "outputs": [
    {
     "name": "stdout",
     "output_type": "stream",
     "text": [
      "Model: \"sequential_4\"\n",
      "_________________________________________________________________\n",
      "Layer (type)                 Output Shape              Param #   \n",
      "=================================================================\n",
      "dense_3 (Dense)              (None, 1)                 9         \n",
      "_________________________________________________________________\n",
      "activation_1 (Activation)    (None, 1)                 0         \n",
      "=================================================================\n",
      "Total params: 9\n",
      "Trainable params: 9\n",
      "Non-trainable params: 0\n",
      "_________________________________________________________________\n"
     ]
    }
   ],
   "source": [
    "model.summary()"
   ]
  },
  {
   "cell_type": "code",
   "execution_count": 13,
   "metadata": {},
   "outputs": [
    {
     "name": "stdout",
     "output_type": "stream",
     "text": [
      "Failed to import pydot. You must install pydot and graphviz for `pydotprint` to work.\n"
     ]
    }
   ],
   "source": [
    "tf.keras.utils.plot_model(\n",
    "    model, to_file=None, show_shapes=True, show_layer_names=True,\n",
    "    rankdir='TB'\n",
    ")"
   ]
  },
  {
   "cell_type": "code",
   "execution_count": 14,
   "metadata": {},
   "outputs": [
    {
     "name": "stdout",
     "output_type": "stream",
     "text": [
      "WARNING:tensorflow:From /home/joseph/anaconda3/envs/idermato/lib/python3.7/site-packages/tensorflow/python/ops/nn_impl.py:180: add_dispatch_support.<locals>.wrapper (from tensorflow.python.ops.array_ops) is deprecated and will be removed in a future version.\n",
      "Instructions for updating:\n",
      "Use tf.where in 2.0, which has the same broadcast rule as np.where\n"
     ]
    }
   ],
   "source": [
    "optimizer = RMSprop(learning_rate=1e-4)\n",
    "\n",
    "model.compile(loss='binary_crossentropy', optimizer=optimizer)"
   ]
  },
  {
   "cell_type": "code",
   "execution_count": 47,
   "metadata": {},
   "outputs": [
    {
     "name": "stdout",
     "output_type": "stream",
     "text": [
      "Train on 80 samples, validate on 20 samples\n",
      "Epoch 1/10\n",
      "80/80 [==============================] - 0s 695us/sample - loss: 203.3880 - val_loss: 202.9156\n",
      "Epoch 2/10\n",
      "80/80 [==============================] - 0s 924us/sample - loss: 202.9190 - val_loss: 202.4404\n",
      "Epoch 3/10\n",
      "80/80 [==============================] - 0s 962us/sample - loss: 202.4439 - val_loss: 201.9740\n",
      "Epoch 4/10\n",
      "80/80 [==============================] - 0s 863us/sample - loss: 201.9653 - val_loss: 201.4963\n",
      "Epoch 5/10\n",
      "80/80 [==============================] - 0s 1ms/sample - loss: 201.5007 - val_loss: 201.0510\n",
      "Epoch 6/10\n",
      "80/80 [==============================] - 0s 980us/sample - loss: 201.0471 - val_loss: 200.5983\n",
      "Epoch 7/10\n",
      "80/80 [==============================] - 0s 848us/sample - loss: 200.5784 - val_loss: 200.1316\n",
      "Epoch 8/10\n",
      "80/80 [==============================] - 0s 1ms/sample - loss: 200.1213 - val_loss: 199.6883\n",
      "Epoch 9/10\n",
      "80/80 [==============================] - 0s 1ms/sample - loss: 199.6576 - val_loss: 199.2147\n",
      "Epoch 10/10\n",
      "80/80 [==============================] - 0s 987us/sample - loss: 199.1821 - val_loss: 198.7451\n"
     ]
    },
    {
     "data": {
      "text/plain": [
       "<tensorflow.python.keras.callbacks.History at 0x7f0fefffd7d0>"
      ]
     },
     "execution_count": 47,
     "metadata": {},
     "output_type": "execute_result"
    }
   ],
   "source": [
    "model.fit(x=X_train, y=y_train, batch_size=10, epochs=10, validation_data=[X_val, y_val])"
   ]
  },
  {
   "cell_type": "code",
   "execution_count": 57,
   "metadata": {},
   "outputs": [
    {
     "name": "stdout",
     "output_type": "stream",
     "text": [
      "X: [1.0, 5, 0.2, 0.14, 1, 0.65, 0.4, 0.4]\n",
      "Proba: [0.9841987]\n",
      "Class: [1]\n"
     ]
    }
   ],
   "source": [
    "import numpy as np\n",
    "\n",
    "test_ = [1., 5, 0.2, 0.14, 1, 0.65, 0.4, 0.4]\n",
    "\n",
    "proba_ = model.predict_proba(np.array([test_]))[0]\n",
    "class_ = model.predict_classes(np.array([test_]))[0]\n",
    "\n",
    "print(f'X: {test_}')\n",
    "print(f'Proba: {proba_}')\n",
    "print(f'Class: {class_}')"
   ]
  },
  {
   "cell_type": "markdown",
   "metadata": {},
   "source": [
    "Si la probabilté est supérieure à 0.5 la classe 1 est associée à la donnée sinon la classe 0"
   ]
  },
  {
   "cell_type": "markdown",
   "metadata": {},
   "source": [
    "### Limites \n",
    "Un seul neurone ne permet pas de répondre à des problèmes complexes. Ainsi, lorsque les exemples ne peuvent pas\n",
    "être séparés par une droite, un seul neurone échoue.\n",
    "Dans le prochain cahier, nous aborderons les réseaux de neurones qui permettent de s'affranchier de cette limite."
   ]
  },
  {
   "cell_type": "markdown",
   "metadata": {},
   "source": [
    "**Références**\n",
    "\n",
    "**Contribuer à ce projet**\n",
    "Toute contribution de votre part serait vivement appréciée. Si vous souhaiter contribuer à ce projet, merci de consulter ce guide [CONTRIBUTING](CONTRIBUTING.md)\n",
    "\n",
    "**Signaler un bug**\n",
    "Si vous avez rencontré un bug durant l'éxecution de ce notebook, pour le signaler, il suffit d'ouvrir une _issue_.\n",
    "\n",
    "**Sponsors**\n",
    "* [Rintio]()\n",
    "* [Solidar'IT]()\n",
    "\n",
    "**Copyright & Licence**\n",
    "Sous licence MIT"
   ]
  },
  {
   "cell_type": "code",
   "execution_count": null,
   "metadata": {},
   "outputs": [],
   "source": []
  }
 ],
 "metadata": {
  "kernelspec": {
   "display_name": "Python 3",
   "language": "python",
   "name": "python3"
  },
  "language_info": {
   "codemirror_mode": {
    "name": "ipython",
    "version": 3
   },
   "file_extension": ".py",
   "mimetype": "text/x-python",
   "name": "python",
   "nbconvert_exporter": "python",
   "pygments_lexer": "ipython3",
   "version": "3.7.7"
  }
 },
 "nbformat": 4,
 "nbformat_minor": 4
}
