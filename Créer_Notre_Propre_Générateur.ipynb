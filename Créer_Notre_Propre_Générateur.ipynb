{
  "nbformat": 4,
  "nbformat_minor": 0,
  "metadata": {
    "kernelspec": {
      "display_name": "Python 3",
      "language": "python",
      "name": "python3"
    },
    "language_info": {
      "codemirror_mode": {
        "name": "ipython",
        "version": 3
      },
      "file_extension": ".py",
      "mimetype": "text/x-python",
      "name": "python",
      "nbconvert_exporter": "python",
      "pygments_lexer": "ipython3",
      "version": "3.7.7"
    },
    "colab": {
      "name": "Créer Notre Propre Générateur",
      "provenance": [],
      "collapsed_sections": [],
      "include_colab_link": true
    }
  },
  "cells": [
    {
      "cell_type": "markdown",
      "metadata": {
        "id": "view-in-github",
        "colab_type": "text"
      },
      "source": [
        "<a href=\"https://colab.research.google.com/github/joekakone/learn_data_science/blob/master/Cr%C3%A9er_Notre_Propre_G%C3%A9n%C3%A9rateur.ipynb\" target=\"_parent\"><img src=\"https://colab.research.google.com/assets/colab-badge.svg\" alt=\"Open In Colab\"/></a>"
      ]
    },
    {
      "cell_type": "markdown",
      "metadata": {
        "id": "psKApJjSE7PA",
        "colab_type": "text"
      },
      "source": [
        "# Créer son propre génératuer : Une aternative à ImageDataGenerator\n",
        "\n",
        "Les images sont généralement chargées avec ImageDataGenerator avec une contrainte d'avoir les images représentant les mêmes classes dans les dossiers.\n",
        "\n",
        "Avantage: On n'est plus obligé d'avoir les images dans différents dossiers.\n",
        "\n",
        "Désavantage: Nous n'avaons plus l'option «Augmenter les images»"
      ]
    },
    {
      "cell_type": "code",
      "metadata": {
        "id": "rccSjTf04V2U",
        "colab_type": "code",
        "colab": {
          "base_uri": "https://localhost:8080/",
          "height": 35
        },
        "outputId": "f32c0ffa-6e08-420b-a840-8f82ea729c15"
      },
      "source": [
        "# connection to drive\n",
        "import os\n",
        "from google.colab import drive\n",
        "drive.mount('/content/drive/')\n",
        "os.chdir('/content/drive/My Drive/')\n",
        "\n",
        "BASE_ROOT = './tensorflow-hub'\n",
        "if not os.path.exists(BASE_ROOT):\n",
        "    os.makedirs(BASE_ROOT)\n",
        "os.chdir(BASE_ROOT)"
      ],
      "execution_count": null,
      "outputs": [
        {
          "output_type": "stream",
          "text": [
            "Drive already mounted at /content/drive/; to attempt to forcibly remount, call drive.mount(\"/content/drive/\", force_remount=True).\n"
          ],
          "name": "stdout"
        }
      ]
    },
    {
      "cell_type": "code",
      "metadata": {
        "id": "Reidxd3rEYeQ",
        "colab_type": "code",
        "colab": {
          "base_uri": "https://localhost:8080/",
          "height": 35
        },
        "outputId": "4cb43b42-4991-4627-eecf-bea40e084948"
      },
      "source": [
        "import tensorflow as tf\n",
        "tf.__version__"
      ],
      "execution_count": null,
      "outputs": [
        {
          "output_type": "execute_result",
          "data": {
            "application/vnd.google.colaboratory.intrinsic+json": {
              "type": "string"
            },
            "text/plain": [
              "'2.3.0'"
            ]
          },
          "metadata": {
            "tags": []
          },
          "execution_count": 9
        }
      ]
    },
    {
      "cell_type": "code",
      "metadata": {
        "id": "pAQlztvdEYe5",
        "colab_type": "code",
        "colab": {}
      },
      "source": [
        "import os\n",
        "import math\n",
        "\n",
        "import numpy as np\n",
        "import glob\n",
        "from PIL import Image\n",
        "import matplotlib.pyplot as plt\n",
        "import seaborn as sns\n",
        "\n",
        "sns.set()"
      ],
      "execution_count": null,
      "outputs": []
    },
    {
      "cell_type": "code",
      "metadata": {
        "id": "VhAz52JMEYfT",
        "colab_type": "code",
        "colab": {}
      },
      "source": [
        "DATA_ROOT = './flower_photos/'"
      ],
      "execution_count": null,
      "outputs": []
    },
    {
      "cell_type": "code",
      "metadata": {
        "id": "RurYH2yMEYf0",
        "colab_type": "code",
        "colab": {
          "base_uri": "https://localhost:8080/",
          "height": 35
        },
        "outputId": "dd5f73b6-0308-4e0d-c312-1d7c21a9e241"
      },
      "source": [
        "# classes's names as floders's names\n",
        "classes = [it for it in os.listdir(DATA_ROOT) if it != 'LICENSE.txt']\n",
        "classes = sorted(classes) # sort list\n",
        "num_classes = len(classes)\n",
        "classes"
      ],
      "execution_count": null,
      "outputs": [
        {
          "output_type": "execute_result",
          "data": {
            "text/plain": [
              "['daisy', 'dandelion', 'roses', 'sunflowers', 'tulips']"
            ]
          },
          "metadata": {
            "tags": []
          },
          "execution_count": 12
        }
      ]
    },
    {
      "cell_type": "code",
      "metadata": {
        "id": "9YXdkSusEYgX",
        "colab_type": "code",
        "colab": {
          "base_uri": "https://localhost:8080/",
          "height": 35
        },
        "outputId": "ab37af6a-b972-40cc-883b-ba517ddca3bd"
      },
      "source": [
        "# mapping classes to label (int)\n",
        "classes = {classes[i]: i for i in range(len(classes))}\n",
        "classes"
      ],
      "execution_count": null,
      "outputs": [
        {
          "output_type": "execute_result",
          "data": {
            "text/plain": [
              "{'daisy': 0, 'dandelion': 1, 'roses': 2, 'sunflowers': 3, 'tulips': 4}"
            ]
          },
          "metadata": {
            "tags": []
          },
          "execution_count": 13
        }
      ]
    },
    {
      "cell_type": "code",
      "metadata": {
        "id": "Af_Mk0joEYg2",
        "colab_type": "code",
        "colab": {
          "base_uri": "https://localhost:8080/",
          "height": 35
        },
        "outputId": "e7f51753-af90-42af-d477-754ef61320a7"
      },
      "source": [
        "# listing all images paths\n",
        "all_images = glob.glob(DATA_ROOT+'*/*.jpg')\n",
        "np.random.shuffle(all_images)\n",
        "n_samples = len(all_images)\n",
        "n_samples"
      ],
      "execution_count": null,
      "outputs": [
        {
          "output_type": "execute_result",
          "data": {
            "text/plain": [
              "3670"
            ]
          },
          "metadata": {
            "tags": []
          },
          "execution_count": 14
        }
      ]
    },
    {
      "cell_type": "code",
      "metadata": {
        "id": "NUHxC_ySEYhR",
        "colab_type": "code",
        "colab": {
          "base_uri": "https://localhost:8080/",
          "height": 35
        },
        "outputId": "8ac2f2d9-2a1c-4422-eb18-f156e8981c7d"
      },
      "source": [
        "# associate label to each image\n",
        "labels = [path.split('/')[-2] for path in all_images]\n",
        "len(labels)"
      ],
      "execution_count": null,
      "outputs": [
        {
          "output_type": "execute_result",
          "data": {
            "text/plain": [
              "3670"
            ]
          },
          "metadata": {
            "tags": []
          },
          "execution_count": 15
        }
      ]
    },
    {
      "cell_type": "code",
      "metadata": {
        "id": "1pJkk_H6EYiJ",
        "colab_type": "code",
        "colab": {
          "base_uri": "https://localhost:8080/",
          "height": 35
        },
        "outputId": "8df868eb-42d0-4f14-861c-85a98af8929c"
      },
      "source": [
        "# converting labels\n",
        "labels = [classes[label] for label in labels]\n",
        "labels[0]"
      ],
      "execution_count": null,
      "outputs": [
        {
          "output_type": "execute_result",
          "data": {
            "text/plain": [
              "0"
            ]
          },
          "metadata": {
            "tags": []
          },
          "execution_count": 16
        }
      ]
    },
    {
      "cell_type": "markdown",
      "metadata": {
        "id": "1pPghf-PG8L7",
        "colab_type": "text"
      },
      "source": [
        "# Générateur Personnalisé\n",
        "La personnalisation du générateur se fait sur l'association des chemins des images et des classes associées."
      ]
    },
    {
      "cell_type": "code",
      "metadata": {
        "id": "KSkHHbtmEYiw",
        "colab_type": "code",
        "colab": {}
      },
      "source": [
        "from tensorflow.keras.preprocessing.image import ImageDataGenerator\n",
        "from tensorflow.keras import Sequential\n",
        "from tensorflow.keras.applications.inception_v3 import InceptionV3\n",
        "from tensorflow.keras.layers import Conv2D, MaxPooling2D, GlobalAveragePooling2D, Dense, Flatten"
      ],
      "execution_count": null,
      "outputs": []
    },
    {
      "cell_type": "code",
      "metadata": {
        "id": "DIIe7eoVEYjE",
        "colab_type": "code",
        "colab": {}
      },
      "source": [
        "IMG_SIZE = 150\n",
        "NUM_CHANNELS = 3\n",
        "TARGET_SIZE = (IMG_SIZE, IMG_SIZE)\n",
        "INPUT_SHAPE = (IMG_SIZE, IMG_SIZE, NUM_CHANNELS)\n",
        "BATCH_SIZE = 80"
      ],
      "execution_count": null,
      "outputs": []
    },
    {
      "cell_type": "code",
      "metadata": {
        "id": "9Bh977kXgF5u",
        "colab_type": "code",
        "colab": {}
      },
      "source": [
        "def load_image(path):\n",
        "    image = Image.open(path)\n",
        "    image = image.convert('RGB')\n",
        "    image = image.resize(TARGET_SIZE)\n",
        "    image = np.array(image) / 255.0\n",
        "    image = image.reshape(INPUT_SHAPE)\n",
        "    return image"
      ],
      "execution_count": null,
      "outputs": []
    },
    {
      "cell_type": "code",
      "metadata": {
        "id": "FyMae3HlEYie",
        "colab_type": "code",
        "colab": {}
      },
      "source": [
        "class DataGenerator(tf.keras.utils.Sequence):\n",
        "    def __init__(self, x_set, y_set, batch_size=32, target_size=(150, 150)):\n",
        "        self.x, self.y = x_set, y_set\n",
        "        self.batch_size = batch_size\n",
        "        self.target_size = target_size\n",
        "\n",
        "    def __len__(self):\n",
        "        return math.ceil(len(self.x) / self.batch_size)\n",
        "\n",
        "    def __getitem__(self, idx):\n",
        "        batch_x = self.x[idx * self.batch_size:(idx + 1) *\n",
        "        self.batch_size]\n",
        "        batch_y = self.y[idx * self.batch_size:(idx + 1) *\n",
        "        self.batch_size]\n",
        "\n",
        "        return np.array([\n",
        "            load_image(file_name)\n",
        "               for file_name in batch_x]), np.array(batch_y)"
      ],
      "execution_count": null,
      "outputs": []
    },
    {
      "cell_type": "code",
      "metadata": {
        "id": "zyeh5UUc-dKK",
        "colab_type": "code",
        "colab": {}
      },
      "source": [
        "train_samples = int(n_samples*.8)"
      ],
      "execution_count": null,
      "outputs": []
    },
    {
      "cell_type": "code",
      "metadata": {
        "id": "AAgC7NhGEYja",
        "colab_type": "code",
        "colab": {}
      },
      "source": [
        "train_generator = DataGenerator(all_images[:train_samples], labels[:train_samples], BATCH_SIZE, TARGET_SIZE)\n",
        "val_generator = DataGenerator(all_images[train_samples:], labels[train_samples:], BATCH_SIZE, TARGET_SIZE)"
      ],
      "execution_count": null,
      "outputs": []
    },
    {
      "cell_type": "code",
      "metadata": {
        "id": "ajL2IZIhEYju",
        "colab_type": "code",
        "colab": {
          "base_uri": "https://localhost:8080/",
          "height": 315
        },
        "outputId": "e50d7182-221e-43c5-ec55-ca6dd153394a"
      },
      "source": [
        "base_model = InceptionV3(include_top=False, input_shape=INPUT_SHAPE)\n",
        "base_model.trainable = False\n",
        "\n",
        "model = Sequential([\n",
        "    base_model,\n",
        "    GlobalAveragePooling2D(),\n",
        "    Dense(1024, activation='relu'),\n",
        "    Dense(units=num_classes, activation='softmax')\n",
        "])\n",
        "\n",
        "print(model.summary())"
      ],
      "execution_count": null,
      "outputs": [
        {
          "output_type": "stream",
          "text": [
            "Model: \"sequential\"\n",
            "_________________________________________________________________\n",
            "Layer (type)                 Output Shape              Param #   \n",
            "=================================================================\n",
            "inception_v3 (Functional)    (None, 3, 3, 2048)        21802784  \n",
            "_________________________________________________________________\n",
            "global_average_pooling2d (Gl (None, 2048)              0         \n",
            "_________________________________________________________________\n",
            "dense (Dense)                (None, 1024)              2098176   \n",
            "_________________________________________________________________\n",
            "dense_1 (Dense)              (None, 5)                 5125      \n",
            "=================================================================\n",
            "Total params: 23,906,085\n",
            "Trainable params: 2,103,301\n",
            "Non-trainable params: 21,802,784\n",
            "_________________________________________________________________\n",
            "None\n"
          ],
          "name": "stdout"
        }
      ]
    },
    {
      "cell_type": "code",
      "metadata": {
        "id": "JWdBM-yEEYki",
        "colab_type": "code",
        "colab": {}
      },
      "source": [
        "model.compile(loss='sparse_categorical_crossentropy',\n",
        "              optimizer='rmsprop',\n",
        "              metrics=['acc'])"
      ],
      "execution_count": null,
      "outputs": []
    },
    {
      "cell_type": "code",
      "metadata": {
        "id": "ERGLbGmsEYks",
        "colab_type": "code",
        "colab": {
          "base_uri": "https://localhost:8080/",
          "height": 1000
        },
        "outputId": "58e4b09f-fd1b-4fe9-f8eb-03f194558490"
      },
      "source": [
        "EPOCHS = 30\n",
        "\n",
        "history = model.fit(train_generator,\n",
        "                    validation_data=val_generator,\n",
        "                    epochs=EPOCHS)"
      ],
      "execution_count": null,
      "outputs": [
        {
          "output_type": "stream",
          "text": [
            "Epoch 1/30\n",
            "37/37 [==============================] - 155s 4s/step - loss: 4.7495 - acc: 0.5453 - val_loss: 1.2976 - val_acc: 0.5995\n",
            "Epoch 2/30\n",
            "37/37 [==============================] - 153s 4s/step - loss: 0.9142 - acc: 0.7193 - val_loss: 0.6433 - val_acc: 0.7984\n",
            "Epoch 3/30\n",
            "37/37 [==============================] - 155s 4s/step - loss: 0.8448 - acc: 0.7493 - val_loss: 0.5365 - val_acc: 0.8229\n",
            "Epoch 4/30\n",
            "37/37 [==============================] - 152s 4s/step - loss: 0.7257 - acc: 0.7854 - val_loss: 0.7280 - val_acc: 0.7820\n",
            "Epoch 5/30\n",
            "37/37 [==============================] - 152s 4s/step - loss: 0.5244 - acc: 0.8249 - val_loss: 0.9902 - val_acc: 0.7207\n",
            "Epoch 6/30\n",
            "37/37 [==============================] - 152s 4s/step - loss: 0.4720 - acc: 0.8563 - val_loss: 0.7242 - val_acc: 0.7916\n",
            "Epoch 7/30\n",
            "37/37 [==============================] - 156s 4s/step - loss: 0.3913 - acc: 0.8743 - val_loss: 0.4956 - val_acc: 0.8379\n",
            "Epoch 8/30\n",
            "37/37 [==============================] - 153s 4s/step - loss: 0.3233 - acc: 0.8968 - val_loss: 0.5264 - val_acc: 0.8351\n",
            "Epoch 9/30\n",
            "37/37 [==============================] - 152s 4s/step - loss: 0.2333 - acc: 0.9298 - val_loss: 0.7922 - val_acc: 0.7875\n",
            "Epoch 10/30\n",
            "37/37 [==============================] - 152s 4s/step - loss: 0.2364 - acc: 0.9268 - val_loss: 0.5138 - val_acc: 0.8433\n",
            "Epoch 11/30\n",
            "37/37 [==============================] - 155s 4s/step - loss: 0.1714 - acc: 0.9510 - val_loss: 0.5332 - val_acc: 0.8420\n",
            "Epoch 12/30\n",
            "37/37 [==============================] - 152s 4s/step - loss: 0.1594 - acc: 0.9550 - val_loss: 0.6325 - val_acc: 0.8311\n",
            "Epoch 13/30\n",
            "37/37 [==============================] - 152s 4s/step - loss: 0.2378 - acc: 0.9513 - val_loss: 0.6147 - val_acc: 0.8501\n",
            "Epoch 14/30\n",
            "37/37 [==============================] - 152s 4s/step - loss: 0.1410 - acc: 0.9724 - val_loss: 0.6251 - val_acc: 0.8460\n",
            "Epoch 15/30\n",
            "37/37 [==============================] - 156s 4s/step - loss: 0.1206 - acc: 0.9762 - val_loss: 0.7755 - val_acc: 0.8270\n",
            "Epoch 16/30\n",
            "37/37 [==============================] - 152s 4s/step - loss: 0.1280 - acc: 0.9751 - val_loss: 0.5877 - val_acc: 0.8665\n",
            "Epoch 17/30\n",
            "37/37 [==============================] - 153s 4s/step - loss: 0.1579 - acc: 0.9745 - val_loss: 0.6363 - val_acc: 0.8638\n",
            "Epoch 18/30\n",
            "37/37 [==============================] - 153s 4s/step - loss: 0.0816 - acc: 0.9864 - val_loss: 0.6602 - val_acc: 0.8529\n",
            "Epoch 19/30\n",
            "37/37 [==============================] - 157s 4s/step - loss: 0.1540 - acc: 0.9779 - val_loss: 0.6610 - val_acc: 0.8665\n",
            "Epoch 20/30\n",
            "37/37 [==============================] - 153s 4s/step - loss: 0.1716 - acc: 0.9721 - val_loss: 0.7160 - val_acc: 0.8529\n",
            "Epoch 21/30\n",
            "37/37 [==============================] - 153s 4s/step - loss: 0.0762 - acc: 0.9840 - val_loss: 0.9269 - val_acc: 0.8406\n",
            "Epoch 22/30\n",
            "37/37 [==============================] - 152s 4s/step - loss: 0.1515 - acc: 0.9826 - val_loss: 0.7558 - val_acc: 0.8542\n",
            "Epoch 23/30\n",
            "37/37 [==============================] - 157s 4s/step - loss: 0.1324 - acc: 0.9789 - val_loss: 0.7727 - val_acc: 0.8556\n",
            "Epoch 24/30\n",
            "37/37 [==============================] - 153s 4s/step - loss: 0.1497 - acc: 0.9847 - val_loss: 1.2695 - val_acc: 0.7997\n",
            "Epoch 25/30\n",
            "37/37 [==============================] - 154s 4s/step - loss: 0.0135 - acc: 0.9966 - val_loss: 0.6966 - val_acc: 0.8569\n",
            "Epoch 26/30\n",
            "37/37 [==============================] - 156s 4s/step - loss: 0.0773 - acc: 0.9840 - val_loss: 1.0788 - val_acc: 0.8283\n",
            "Epoch 27/30\n",
            "37/37 [==============================] - 154s 4s/step - loss: 0.3358 - acc: 0.9659 - val_loss: 0.8237 - val_acc: 0.8569\n",
            "Epoch 28/30\n",
            "37/37 [==============================] - 152s 4s/step - loss: 0.0143 - acc: 0.9963 - val_loss: 0.8207 - val_acc: 0.8610\n",
            "Epoch 29/30\n",
            "37/37 [==============================] - 152s 4s/step - loss: 0.2018 - acc: 0.9799 - val_loss: 0.9150 - val_acc: 0.8597\n",
            "Epoch 30/30\n",
            "37/37 [==============================] - 156s 4s/step - loss: 0.1951 - acc: 0.9724 - val_loss: 0.9910 - val_acc: 0.8651\n"
          ],
          "name": "stdout"
        }
      ]
    },
    {
      "cell_type": "code",
      "metadata": {
        "id": "oWc9I8yLEYk4",
        "colab_type": "code",
        "colab": {
          "base_uri": "https://localhost:8080/",
          "height": 301
        },
        "outputId": "def768a7-023c-4191-f716-736f0a0ce927"
      },
      "source": [
        "acc = history.history['acc']\n",
        "val_acc = history.history['val_acc']\n",
        "loss = history.history['loss']\n",
        "val_loss = history.history['val_loss']\n",
        "epochs = range(1, len(acc) + 1)\n",
        "\n",
        "fig = plt.figure(figsize=(12, 4))\n",
        "\n",
        "fig.add_subplot(1, 2, 1)\n",
        "plt.plot(epochs, acc, 'bo', label='Training Accuracy')\n",
        "plt.plot(epochs, val_acc, 'b', label='Validation Accuracy')\n",
        "plt.xlabel('Epoch')\n",
        "plt.ylabel('Accuracy')\n",
        "plt.title('Training and validation accuracy')\n",
        "plt.legend(loc='best')\n",
        "\n",
        "fig.add_subplot(1, 2, 2)\n",
        "plt.plot(epochs, loss, 'bo', label='Training Loss')\n",
        "plt.plot(epochs, val_loss, 'b', label='Validation Loss')\n",
        "plt.xlabel('Epoch')\n",
        "plt.ylabel('Loss')\n",
        "plt.title('Training and validation loss')\n",
        "plt.legend(loc='best')\n",
        "\n",
        "plt.show()"
      ],
      "execution_count": null,
      "outputs": [
        {
          "output_type": "display_data",
          "data": {
            "image/png": "[encoded data removed]",
            "text/plain": [
              "<Figure size 864x288 with 2 Axes>"
            ]
          },
          "metadata": {
            "tags": []
          }
        }
      ]
    },
    {
      "cell_type": "code",
      "metadata": {
        "id": "cX_YKoNUdEoQ",
        "colab_type": "code",
        "colab": {
          "base_uri": "https://localhost:8080/",
          "height": 70
        },
        "outputId": "90620c6f-6296-4f4d-9da8-56256c20b67d"
      },
      "source": [
        "res =  model.evaluate(val_generator)\n",
        "print(f'Validation Loss: {res[0]}')\n",
        "print(f'Validation Accuracy: {res[1]}')"
      ],
      "execution_count": null,
      "outputs": [
        {
          "output_type": "stream",
          "text": [
            "10/10 [==============================] - 27s 3s/step - loss: 0.9910 - acc: 0.8651\n",
            "Validation Loss: 0.9909815192222595\n",
            "Validation Accuracy: 0.8651226162910461\n"
          ],
          "name": "stdout"
        }
      ]
    }
  ]
}