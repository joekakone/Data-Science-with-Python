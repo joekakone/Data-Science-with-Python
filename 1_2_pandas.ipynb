{
 "cells": [
  {
   "cell_type": "markdown",
   "metadata": {},
   "source": [
    "# Module 1: Librairies Python pour la Data Science\n",
    "\n",
    "* Partie 1.1: Numpy [[Notebook]](./1_1_numpy.ipynb)\n",
    "* **Partie 2.2: Pandas** [[Notebook]](./1_2_pandas.ipynb)\n",
    "* Partie 2.3: Matplotlib [[Notebook]](./2_3_matplotlib.ipynb)\n",
    "\n",
    "# Partie 1.2: Prise en main de Pandas\n",
    "Pandas est une libraire <i>Open Source</i> sous licence BSD. Il s'agit d'une librairie de manipulaion et d'analyse de données en python. Elle est la populaire"
   ]
  },
  {
   "cell_type": "markdown",
   "metadata": {},
   "source": [
    "## Importer Pandas\n",
    "Pandas n'est pas une librairie native en Python, il faut l'installer au préalable.\n",
    "Si vous ne l'avez pas encore installée avez pas\n",
    "Pour importer Pandas if suffit de faire ceci ```import pandas``` mais il est plus courant de faire ceci ```import pandas as pd```"
   ]
  },
  {
   "cell_type": "code",
   "execution_count": 1,
   "metadata": {},
   "outputs": [],
   "source": [
    "import pandas as pd"
   ]
  },
  {
   "cell_type": "markdown",
   "metadata": {},
   "source": [
    "## pandas.Series\n",
    "Les limites trouvent leurs limites lorsqu'il s'agit de faire des analyses statistiques, il est certes possible d'avoir les minimum et maximun mais il n'est pas possible de connaitre la moyenne par exemple\n",
    "L'objet pandas.Series nous permet de nous affranchir de ces limites, il est donc possible de calculer les indicateurs statistiques sur les données à svaoir la moyenne, la variance entre autres."
   ]
  },
  {
   "cell_type": "code",
   "execution_count": 41,
   "metadata": {},
   "outputs": [],
   "source": [
    "names = [\"Esso\", \"Lendjina\", \"Yemi\", \"Adboul\", \"Tracy\", \"Adjo\", \"Yacuba\", \"Degnon\"]\n",
    "countries = [\"Togo\", \"Haïti\", \"Nigeria\", \"Burkina\", \"Ivory Cost\", \"Togo\", \"Niger\", \"Benin\"]\n",
    "sexes = ['M', 'F', 'M', 'M', 'F', 'F', 'F', 'F']\n",
    "ages = [22, 18, 20,19, 31, 23, 26, 17]\n",
    "heights = [1.73, 1.43, 1.52, 1.82, 1.45, 1.61, 1.90, 1.52]"
   ]
  },
  {
   "cell_type": "markdown",
   "metadata": {},
   "source": [
    "### Statistique descriptive\n",
    "La statistique descriptive est une branche de la Statistique, elle <br>\n",
    "Nous pouvons calculer des indicateurs sur ces données, ce qui n'est pas possible avec les listes natives en python"
   ]
  },
  {
   "cell_type": "code",
   "execution_count": 24,
   "metadata": {},
   "outputs": [],
   "source": [
    "pd_ages = pd.Series(ages) # convert list into a pandas.Series"
   ]
  },
  {
   "cell_type": "code",
   "execution_count": 39,
   "metadata": {},
   "outputs": [
    {
     "data": {
      "text/plain": [
       "4.527692569068709"
      ]
     },
     "execution_count": 39,
     "metadata": {},
     "output_type": "execute_result"
    }
   ],
   "source": [
    "mean = pd_ages.mean() # Moyenne\n",
    "median = pd_ages.median() # Médiane\n",
    "variance = pd_ages.var(ddof=0) # Variancce\n",
    "no_biais_variance = pd_ages.var() # Variance non biasée\n",
    "pd_ages.std(ddof=0) # Écart-tye\n",
    "pd_ages.std() # Écart-tye non biaisé"
   ]
  },
  {
   "cell_type": "code",
   "execution_count": 26,
   "metadata": {},
   "outputs": [],
   "source": [
    "pd_heights = pd.Series(heights)"
   ]
  },
  {
   "cell_type": "markdown",
   "metadata": {},
   "source": [
    "## pandas.DataFrame\n",
    "Les limites trouvent leurs limites lorsqu'il s'agit de faire des analyses statistiques, il est certes possible d'avoir les minimum et maximun mais il n'est pas possible de connaitre la moyenne par exemple\n",
    "L'objet pandas.Series nous permet de nous affranchir de ces limites, il est donc possible de calculer les indicateurs statistiques sur les données à svaoir la moyenne, la variance entre autres."
   ]
  },
  {
   "cell_type": "code",
   "execution_count": 42,
   "metadata": {},
   "outputs": [
    {
     "data": {
      "text/html": [
       "<div>\n",
       "<style scoped>\n",
       "    .dataframe tbody tr th:only-of-type {\n",
       "        vertical-align: middle;\n",
       "    }\n",
       "\n",
       "    .dataframe tbody tr th {\n",
       "        vertical-align: top;\n",
       "    }\n",
       "\n",
       "    .dataframe thead th {\n",
       "        text-align: right;\n",
       "    }\n",
       "</style>\n",
       "<table border=\"1\" class=\"dataframe\">\n",
       "  <thead>\n",
       "    <tr style=\"text-align: right;\">\n",
       "      <th></th>\n",
       "      <th>name</th>\n",
       "      <th>country</th>\n",
       "      <th>sex</th>\n",
       "      <th>age</th>\n",
       "      <th>height</th>\n",
       "    </tr>\n",
       "  </thead>\n",
       "  <tbody>\n",
       "    <tr>\n",
       "      <th>0</th>\n",
       "      <td>Esso</td>\n",
       "      <td>Togo</td>\n",
       "      <td>M</td>\n",
       "      <td>22</td>\n",
       "      <td>1.73</td>\n",
       "    </tr>\n",
       "    <tr>\n",
       "      <th>1</th>\n",
       "      <td>Lendjina</td>\n",
       "      <td>Haïti</td>\n",
       "      <td>F</td>\n",
       "      <td>18</td>\n",
       "      <td>1.43</td>\n",
       "    </tr>\n",
       "    <tr>\n",
       "      <th>2</th>\n",
       "      <td>Yemi</td>\n",
       "      <td>Nigeria</td>\n",
       "      <td>M</td>\n",
       "      <td>20</td>\n",
       "      <td>1.52</td>\n",
       "    </tr>\n",
       "    <tr>\n",
       "      <th>3</th>\n",
       "      <td>Adboul</td>\n",
       "      <td>Burkina</td>\n",
       "      <td>M</td>\n",
       "      <td>19</td>\n",
       "      <td>1.82</td>\n",
       "    </tr>\n",
       "    <tr>\n",
       "      <th>4</th>\n",
       "      <td>Tracy</td>\n",
       "      <td>Ivory Cost</td>\n",
       "      <td>F</td>\n",
       "      <td>31</td>\n",
       "      <td>1.45</td>\n",
       "    </tr>\n",
       "    <tr>\n",
       "      <th>5</th>\n",
       "      <td>Adjo</td>\n",
       "      <td>Togo</td>\n",
       "      <td>F</td>\n",
       "      <td>23</td>\n",
       "      <td>1.61</td>\n",
       "    </tr>\n",
       "    <tr>\n",
       "      <th>6</th>\n",
       "      <td>Yacuba</td>\n",
       "      <td>Niger</td>\n",
       "      <td>F</td>\n",
       "      <td>26</td>\n",
       "      <td>1.90</td>\n",
       "    </tr>\n",
       "    <tr>\n",
       "      <th>7</th>\n",
       "      <td>Degnon</td>\n",
       "      <td>Benin</td>\n",
       "      <td>F</td>\n",
       "      <td>17</td>\n",
       "      <td>1.52</td>\n",
       "    </tr>\n",
       "  </tbody>\n",
       "</table>\n",
       "</div>"
      ],
      "text/plain": [
       "       name     country sex  age  height\n",
       "0      Esso        Togo   M   22    1.73\n",
       "1  Lendjina       Haïti   F   18    1.43\n",
       "2      Yemi     Nigeria   M   20    1.52\n",
       "3    Adboul     Burkina   M   19    1.82\n",
       "4     Tracy  Ivory Cost   F   31    1.45\n",
       "5      Adjo        Togo   F   23    1.61\n",
       "6    Yacuba       Niger   F   26    1.90\n",
       "7    Degnon       Benin   F   17    1.52"
      ]
     },
     "execution_count": 42,
     "metadata": {},
     "output_type": "execute_result"
    }
   ],
   "source": [
    "data = pd.DataFrame({\"name\": names, \"country\": countries, \"sex\": sexes, \"age\": ages, \"height\": heights})\n",
    "data # show the table"
   ]
  },
  {
   "cell_type": "markdown",
   "metadata": {},
   "source": [
    "#### Afficher les 4 premières lignes du tableau"
   ]
  },
  {
   "cell_type": "code",
   "execution_count": 47,
   "metadata": {},
   "outputs": [
    {
     "data": {
      "text/html": [
       "<div>\n",
       "<style scoped>\n",
       "    .dataframe tbody tr th:only-of-type {\n",
       "        vertical-align: middle;\n",
       "    }\n",
       "\n",
       "    .dataframe tbody tr th {\n",
       "        vertical-align: top;\n",
       "    }\n",
       "\n",
       "    .dataframe thead th {\n",
       "        text-align: right;\n",
       "    }\n",
       "</style>\n",
       "<table border=\"1\" class=\"dataframe\">\n",
       "  <thead>\n",
       "    <tr style=\"text-align: right;\">\n",
       "      <th></th>\n",
       "      <th>name</th>\n",
       "      <th>country</th>\n",
       "      <th>sex</th>\n",
       "      <th>age</th>\n",
       "      <th>height</th>\n",
       "    </tr>\n",
       "  </thead>\n",
       "  <tbody>\n",
       "    <tr>\n",
       "      <th>0</th>\n",
       "      <td>Esso</td>\n",
       "      <td>Togo</td>\n",
       "      <td>M</td>\n",
       "      <td>22</td>\n",
       "      <td>1.73</td>\n",
       "    </tr>\n",
       "    <tr>\n",
       "      <th>1</th>\n",
       "      <td>Lendjina</td>\n",
       "      <td>Haïti</td>\n",
       "      <td>F</td>\n",
       "      <td>18</td>\n",
       "      <td>1.43</td>\n",
       "    </tr>\n",
       "    <tr>\n",
       "      <th>2</th>\n",
       "      <td>Yemi</td>\n",
       "      <td>Nigeria</td>\n",
       "      <td>M</td>\n",
       "      <td>20</td>\n",
       "      <td>1.52</td>\n",
       "    </tr>\n",
       "    <tr>\n",
       "      <th>3</th>\n",
       "      <td>Adboul</td>\n",
       "      <td>Burkina</td>\n",
       "      <td>M</td>\n",
       "      <td>19</td>\n",
       "      <td>1.82</td>\n",
       "    </tr>\n",
       "  </tbody>\n",
       "</table>\n",
       "</div>"
      ],
      "text/plain": [
       "       name  country sex  age  height\n",
       "0      Esso     Togo   M   22    1.73\n",
       "1  Lendjina    Haïti   F   18    1.43\n",
       "2      Yemi  Nigeria   M   20    1.52\n",
       "3    Adboul  Burkina   M   19    1.82"
      ]
     },
     "execution_count": 47,
     "metadata": {},
     "output_type": "execute_result"
    }
   ],
   "source": [
    "data.head(n=4)"
   ]
  },
  {
   "cell_type": "markdown",
   "metadata": {},
   "source": [
    "#### Afficher les 4 dernières lignes du tableau"
   ]
  },
  {
   "cell_type": "code",
   "execution_count": 49,
   "metadata": {},
   "outputs": [
    {
     "data": {
      "text/html": [
       "<div>\n",
       "<style scoped>\n",
       "    .dataframe tbody tr th:only-of-type {\n",
       "        vertical-align: middle;\n",
       "    }\n",
       "\n",
       "    .dataframe tbody tr th {\n",
       "        vertical-align: top;\n",
       "    }\n",
       "\n",
       "    .dataframe thead th {\n",
       "        text-align: right;\n",
       "    }\n",
       "</style>\n",
       "<table border=\"1\" class=\"dataframe\">\n",
       "  <thead>\n",
       "    <tr style=\"text-align: right;\">\n",
       "      <th></th>\n",
       "      <th>name</th>\n",
       "      <th>country</th>\n",
       "      <th>sex</th>\n",
       "      <th>age</th>\n",
       "      <th>height</th>\n",
       "    </tr>\n",
       "  </thead>\n",
       "  <tbody>\n",
       "    <tr>\n",
       "      <th>4</th>\n",
       "      <td>Tracy</td>\n",
       "      <td>Ivory Cost</td>\n",
       "      <td>F</td>\n",
       "      <td>31</td>\n",
       "      <td>1.45</td>\n",
       "    </tr>\n",
       "    <tr>\n",
       "      <th>5</th>\n",
       "      <td>Adjo</td>\n",
       "      <td>Togo</td>\n",
       "      <td>F</td>\n",
       "      <td>23</td>\n",
       "      <td>1.61</td>\n",
       "    </tr>\n",
       "    <tr>\n",
       "      <th>6</th>\n",
       "      <td>Yacuba</td>\n",
       "      <td>Niger</td>\n",
       "      <td>F</td>\n",
       "      <td>26</td>\n",
       "      <td>1.90</td>\n",
       "    </tr>\n",
       "    <tr>\n",
       "      <th>7</th>\n",
       "      <td>Degnon</td>\n",
       "      <td>Benin</td>\n",
       "      <td>F</td>\n",
       "      <td>17</td>\n",
       "      <td>1.52</td>\n",
       "    </tr>\n",
       "  </tbody>\n",
       "</table>\n",
       "</div>"
      ],
      "text/plain": [
       "     name     country sex  age  height\n",
       "4   Tracy  Ivory Cost   F   31    1.45\n",
       "5    Adjo        Togo   F   23    1.61\n",
       "6  Yacuba       Niger   F   26    1.90\n",
       "7  Degnon       Benin   F   17    1.52"
      ]
     },
     "execution_count": 49,
     "metadata": {},
     "output_type": "execute_result"
    }
   ],
   "source": [
    "data.tail(n=4)"
   ]
  },
  {
   "cell_type": "markdown",
   "metadata": {},
   "source": [
    "#### Afficher 4 lignes du tableau choisies au hazard"
   ]
  },
  {
   "cell_type": "code",
   "execution_count": 50,
   "metadata": {},
   "outputs": [
    {
     "data": {
      "text/html": [
       "<div>\n",
       "<style scoped>\n",
       "    .dataframe tbody tr th:only-of-type {\n",
       "        vertical-align: middle;\n",
       "    }\n",
       "\n",
       "    .dataframe tbody tr th {\n",
       "        vertical-align: top;\n",
       "    }\n",
       "\n",
       "    .dataframe thead th {\n",
       "        text-align: right;\n",
       "    }\n",
       "</style>\n",
       "<table border=\"1\" class=\"dataframe\">\n",
       "  <thead>\n",
       "    <tr style=\"text-align: right;\">\n",
       "      <th></th>\n",
       "      <th>name</th>\n",
       "      <th>country</th>\n",
       "      <th>sex</th>\n",
       "      <th>age</th>\n",
       "      <th>height</th>\n",
       "    </tr>\n",
       "  </thead>\n",
       "  <tbody>\n",
       "    <tr>\n",
       "      <th>6</th>\n",
       "      <td>Yacuba</td>\n",
       "      <td>Niger</td>\n",
       "      <td>F</td>\n",
       "      <td>26</td>\n",
       "      <td>1.90</td>\n",
       "    </tr>\n",
       "    <tr>\n",
       "      <th>7</th>\n",
       "      <td>Degnon</td>\n",
       "      <td>Benin</td>\n",
       "      <td>F</td>\n",
       "      <td>17</td>\n",
       "      <td>1.52</td>\n",
       "    </tr>\n",
       "    <tr>\n",
       "      <th>3</th>\n",
       "      <td>Adboul</td>\n",
       "      <td>Burkina</td>\n",
       "      <td>M</td>\n",
       "      <td>19</td>\n",
       "      <td>1.82</td>\n",
       "    </tr>\n",
       "    <tr>\n",
       "      <th>1</th>\n",
       "      <td>Lendjina</td>\n",
       "      <td>Haïti</td>\n",
       "      <td>F</td>\n",
       "      <td>18</td>\n",
       "      <td>1.43</td>\n",
       "    </tr>\n",
       "  </tbody>\n",
       "</table>\n",
       "</div>"
      ],
      "text/plain": [
       "       name  country sex  age  height\n",
       "6    Yacuba    Niger   F   26    1.90\n",
       "7    Degnon    Benin   F   17    1.52\n",
       "3    Adboul  Burkina   M   19    1.82\n",
       "1  Lendjina    Haïti   F   18    1.43"
      ]
     },
     "execution_count": 50,
     "metadata": {},
     "output_type": "execute_result"
    }
   ],
   "source": [
    "data.sample(n=4)"
   ]
  },
  {
   "cell_type": "markdown",
   "metadata": {},
   "source": [
    "## Importer des données\n",
    "En général, les données sur lesquelles l'on souhaite travailler sont stockées dans un fichier externe, la libraire Pandas permet d'importer des données depuis un fichier externe. Plusieurs extensions de fichiers sont prises en charge par Pandas, à savoir ```.csv``` le plus utilisé, ```.excel```, ```.pickle```"
   ]
  },
  {
   "cell_type": "code",
   "execution_count": 2,
   "metadata": {},
   "outputs": [],
   "source": [
    "dt = pd.read_csv('datasets/iris.csv')"
   ]
  },
  {
   "cell_type": "markdown",
   "metadata": {},
   "source": [
    "## Exporter des données"
   ]
  },
  {
   "cell_type": "code",
   "execution_count": null,
   "metadata": {},
   "outputs": [],
   "source": [
    "dt.to_csv(\"backups/\")"
   ]
  },
  {
   "cell_type": "markdown",
   "metadata": {},
   "source": [
    "## Visualisation"
   ]
  },
  {
   "cell_type": "markdown",
   "metadata": {},
   "source": [
    "## Exercices\n",
    "* kk\n",
    "* ll\n",
    "* mm"
   ]
  }
 ],
 "metadata": {
  "kernelspec": {
   "display_name": "Python 3",
   "language": "python",
   "name": "python3"
  },
  "language_info": {
   "codemirror_mode": {
    "name": "ipython",
    "version": 3
   },
   "file_extension": ".py",
   "mimetype": "text/x-python",
   "name": "python",
   "nbconvert_exporter": "python",
   "pygments_lexer": "ipython3",
   "version": "3.7.6"
  }
 },
 "nbformat": 4,
 "nbformat_minor": 4
}
