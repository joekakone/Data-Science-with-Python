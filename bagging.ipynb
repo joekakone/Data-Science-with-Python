{
  "nbformat": 4,
  "nbformat_minor": 0,
  "metadata": {
    "kernelspec": {
      "display_name": "Python 3",
      "language": "python",
      "name": "python3"
    },
    "language_info": {
      "codemirror_mode": {
        "name": "ipython",
        "version": 3
      },
      "file_extension": ".py",
      "mimetype": "text/x-python",
      "name": "python",
      "nbconvert_exporter": "python",
      "pygments_lexer": "ipython3",
      "version": "3.7.6"
    },
    "colab": {
      "name": "bagging",
      "provenance": [],
      "collapsed_sections": [],
      "include_colab_link": true
    }
  },
  "cells": [
    {
      "cell_type": "markdown",
      "metadata": {
        "id": "view-in-github",
        "colab_type": "text"
      },
      "source": [
        "<a href=\"https://colab.research.google.com/github/joekakone/learn_data_science/blob/master/bagging.ipynb\" target=\"_parent\"><img src=\"https://colab.research.google.com/assets/colab-badge.svg\" alt=\"Open In Colab\"/></a>"
      ]
    },
    {
      "cell_type": "markdown",
      "metadata": {
        "id": "hmJvBp3_amoM",
        "colab_type": "text"
      },
      "source": [
        "# Module 2: Apprentissage supervisé\n",
        "\n",
        "* 2.1: Les K plus Proches Voisins [[Notebook]](2_1_knn.ipynb)\n",
        "* 2.2: Régression linéaire [[Notebook]](2_2_régression_linéaire.ipynb)\n",
        "* 2.3: Régression logistique [[Notebook]](2_3_régression_logistique.ipynb)\n",
        "* 2.4: Séparatrices à Vastes Marges [[Notebook]](2_4_svm.ipynb)\n",
        "* 2.5: Arbres de décision [[Notebook]](2_5_trees.ipynb)\n",
        "* **2.6: Bagging** [[Notebook]](2_6_bagging.ipynb)\n",
        "* 2.7: Forêts Aléatoires [[Notebook]](2_7_random_forest.ipynb)\n",
        "* 2.8: Gradient Boosting [[Notebook]](2_8_gradient_boosting.ipynb)"
      ]
    },
    {
      "cell_type": "markdown",
      "metadata": {
        "id": "R1SxG9r0aQgg",
        "colab_type": "text"
      },
      "source": [
        "# Objectif\n",
        "Notre objectif est de prédire si un patient souffre ou non du diabète. Il s'agit d'un problème d'apprentissage supervisé, problème de classification."
      ]
    },
    {
      "cell_type": "markdown",
      "metadata": {
        "id": "Tfad4SykZpit",
        "colab_type": "text"
      },
      "source": [
        "# Importer les libairies nécessaires"
      ]
    },
    {
      "cell_type": "code",
      "metadata": {
        "id": "WIVxkJDeZpiy",
        "colab_type": "code",
        "colab": {}
      },
      "source": [
        "import pandas as pd\n",
        "import matplotlib.pyplot as plt\n",
        "import seaborn as sns\n",
        "\n",
        "sns.set()"
      ],
      "execution_count": null,
      "outputs": []
    },
    {
      "cell_type": "markdown",
      "metadata": {
        "id": "rvlWp6CDZpjC",
        "colab_type": "text"
      },
      "source": [
        "# Importer les données depuis un fichier\n",
        "La commande pour importer des données depuis un fichier `.csv` c'est `pandas.read_csv`."
      ]
    },
    {
      "cell_type": "code",
      "metadata": {
        "id": "-ek5f0bTZpjF",
        "colab_type": "code",
        "colab": {}
      },
      "source": [
        "data = pd.read_csv('https://raw.githubusercontent.com/joekakone/datasets/master/datasets/datasets_for_learn_data_science/datasets_228_482_diabetes.csv')\n",
        "data.head()"
      ],
      "execution_count": null,
      "outputs": []
    },
    {
      "cell_type": "markdown",
      "metadata": {
        "id": "IdqUSZ5pZpjo",
        "colab_type": "text"
      },
      "source": [
        "# Afficher les dimensions du tableau"
      ]
    },
    {
      "cell_type": "code",
      "metadata": {
        "id": "K8LK0_OaZpjq",
        "colab_type": "code",
        "colab": {}
      },
      "source": [
        "data.shape"
      ],
      "execution_count": null,
      "outputs": []
    },
    {
      "cell_type": "markdown",
      "metadata": {
        "id": "KAIts6C_Zpj0",
        "colab_type": "text"
      },
      "source": [
        "Le jeu de données contient 768 données et 9 variables, les huit variables explicatives et une variable expliquée `Outcome`"
      ]
    },
    {
      "cell_type": "code",
      "metadata": {
        "id": "ZK3EHM5PZpj2",
        "colab_type": "code",
        "colab": {}
      },
      "source": [
        "# Nombre de variables explicatives\n",
        "n_features = data.shape[1] - 1\n",
        "# Liste des variales explicatives\n",
        "features = data.columns[:-1]\n",
        "n_features"
      ],
      "execution_count": null,
      "outputs": []
    },
    {
      "cell_type": "code",
      "metadata": {
        "id": "uEltk7ktZpkB",
        "colab_type": "code",
        "colab": {}
      },
      "source": [
        "data.info()"
      ],
      "execution_count": null,
      "outputs": []
    },
    {
      "cell_type": "code",
      "metadata": {
        "id": "yyV31eiaZpkN",
        "colab_type": "code",
        "colab": {}
      },
      "source": [
        "data.describe()"
      ],
      "execution_count": null,
      "outputs": []
    },
    {
      "cell_type": "code",
      "metadata": {
        "id": "Cgt5VMKpZpkh",
        "colab_type": "code",
        "colab": {}
      },
      "source": [
        "data[data.isna()].count()"
      ],
      "execution_count": null,
      "outputs": []
    },
    {
      "cell_type": "markdown",
      "metadata": {
        "id": "0JaOMB_RZpku",
        "colab_type": "text"
      },
      "source": [
        "# Variable expliquée\n",
        "\n",
        "La variable expliquée est `Outcome`. Elle est encodée en 0 et 1, 0 pour négatif et 1 pour positif."
      ]
    },
    {
      "cell_type": "markdown",
      "metadata": {
        "id": "IxkXwX--Zpkw",
        "colab_type": "text"
      },
      "source": [
        "## Table des effectifs\n",
        "La méthode `.value_counts`"
      ]
    },
    {
      "cell_type": "code",
      "metadata": {
        "id": "9arqKB0AZpkx",
        "colab_type": "code",
        "colab": {}
      },
      "source": [
        "Outcome = data['Outcome'].value_counts(sort=False)\n",
        "\n",
        "Outcome"
      ],
      "execution_count": null,
      "outputs": []
    },
    {
      "cell_type": "markdown",
      "metadata": {
        "id": "9DxSS-u5Zpk6",
        "colab_type": "text"
      },
      "source": [
        "Deux types de graphes sont adaptés pour représenter: le diagramme en bâtons et le diagramme en secteurs.\n",
        "\n",
        "Dans la pratique, lorsque le nombre de modalités dépasse trois, le diagramme en bâtons est préféré au digramme en secteurs. La comparaison est plus facile. Les tuyaux d'orgue sont une variante du diagramme en bâtons."
      ]
    },
    {
      "cell_type": "markdown",
      "metadata": {
        "id": "gsT3bIe_Zpk8",
        "colab_type": "text"
      },
      "source": [
        "## Table des fréquences\n",
        "Nous utilisons toujours la méthode `.value_counts` mais cette fois-ci en donnant la valeur `True` à l'argument `normalize` ."
      ]
    },
    {
      "cell_type": "code",
      "metadata": {
        "id": "tVDI6xCNZpk9",
        "colab_type": "code",
        "colab": {}
      },
      "source": [
        "Outcome = data['Outcome'].value_counts(sort=False, normalize=True)\n",
        "Outcome"
      ],
      "execution_count": null,
      "outputs": []
    },
    {
      "cell_type": "markdown",
      "metadata": {
        "id": "ioMFFZBVZplP",
        "colab_type": "text"
      },
      "source": [
        "## Diagramme en bâtons"
      ]
    },
    {
      "cell_type": "code",
      "metadata": {
        "id": "dSXOlxHRZplS",
        "colab_type": "code",
        "colab": {}
      },
      "source": [
        "# diagramme en bâtons\n",
        "Outcome.plot(kind='bar')"
      ],
      "execution_count": null,
      "outputs": []
    },
    {
      "cell_type": "markdown",
      "metadata": {
        "id": "LrlmTNOaZpld",
        "colab_type": "text"
      },
      "source": [
        "## Diagramme en secteurs (camenbert)"
      ]
    },
    {
      "cell_type": "code",
      "metadata": {
        "id": "SkXdai2-Zplf",
        "colab_type": "code",
        "colab": {}
      },
      "source": [
        "# diagramme en secteurs\n",
        "Outcome.plot(kind='pie')"
      ],
      "execution_count": null,
      "outputs": []
    },
    {
      "cell_type": "markdown",
      "metadata": {
        "id": "BEF_T1zwZpm5",
        "colab_type": "text"
      },
      "source": [
        "Le jeu de données est déséquilibré. Il y'a plus de `65%` de données négatives contre un peu plus de `34%` de données négatives. Il faudra en tenir compte de ce déséquilibre lors de l'échantillonnage des données d'entraînement."
      ]
    },
    {
      "cell_type": "markdown",
      "metadata": {
        "id": "bdwlWBd5Zpm7",
        "colab_type": "text"
      },
      "source": [
        "# Variables explicatives"
      ]
    },
    {
      "cell_type": "code",
      "metadata": {
        "id": "xaPA_JV4Zpm8",
        "colab_type": "code",
        "colab": {}
      },
      "source": [
        "# les boîtes à moustaches\n",
        "sns.boxplot(data=data.drop(['Outcome'], axis=1))"
      ],
      "execution_count": null,
      "outputs": []
    },
    {
      "cell_type": "markdown",
      "metadata": {
        "id": "GrN2QB-5ZpnI",
        "colab_type": "text"
      },
      "source": [
        "En dessinant les boîtes à moustaches comme ci-dessus, on constate qu'il y'a une différence d'echelle entre les variables. Et on peut commencer par envisager de les centrer et de les réduire pour les ramener à la même échelle.\n",
        "\n",
        "On remarque par ailleurs la présence de plusieurs valeurs atypiques pour la variable `Insulin`. Nous allons regarder de plus près en étudiant les variables une à une."
      ]
    },
    {
      "cell_type": "code",
      "metadata": {
        "id": "QD7kjA70ZpnK",
        "colab_type": "code",
        "colab": {}
      },
      "source": [
        "fig = plt.figure(figsize=(12, 20))\n",
        "\n",
        "for i in range(n_features):\n",
        "    fig.add_subplot(4, 2, i+1)\n",
        "    sns.boxplot(x=data[features[i]])\n",
        "#     plt.xlabel('')\n",
        "#     plt.title(features[i])\n",
        "    \n",
        "plt.show()"
      ],
      "execution_count": null,
      "outputs": []
    },
    {
      "cell_type": "code",
      "metadata": {
        "id": "bBSDroebZpnY",
        "colab_type": "code",
        "colab": {}
      },
      "source": [
        "sns.distplot(data['Insulin'])\n",
        "plt.show()"
      ],
      "execution_count": null,
      "outputs": []
    },
    {
      "cell_type": "markdown",
      "metadata": {
        "id": "EkYIWehrZpnm",
        "colab_type": "text"
      },
      "source": [
        "L'histogramme \n",
        "Nous allons enlever les données pour lesquelles `Insulin > 400`."
      ]
    },
    {
      "cell_type": "code",
      "metadata": {
        "id": "7q5XKWuuZpno",
        "colab_type": "code",
        "colab": {}
      },
      "source": [
        "sns.distplot(data['DiabetesPedigreeFunction'])\n",
        "plt.show()"
      ],
      "execution_count": null,
      "outputs": []
    },
    {
      "cell_type": "markdown",
      "metadata": {
        "id": "bAmSMqHyZpny",
        "colab_type": "text"
      },
      "source": [
        "De même que pour la variable `Insulin`, nous allons enlever les données pour lesquelles `DiabetesPedigreeFunction > 1.5`."
      ]
    },
    {
      "cell_type": "markdown",
      "metadata": {
        "id": "bEchl0E-Zpn0",
        "colab_type": "text"
      },
      "source": [
        "## Suppression des données atypiques (outliers)"
      ]
    },
    {
      "cell_type": "code",
      "metadata": {
        "id": "5CvDB3QkZpn1",
        "colab_type": "code",
        "colab": {}
      },
      "source": [
        "data = data[data['Insulin']<=400]\n",
        "data = data[data['DiabetesPedigreeFunction']<=1.5]\n",
        "\n",
        "data.shape"
      ],
      "execution_count": null,
      "outputs": []
    },
    {
      "cell_type": "markdown",
      "metadata": {
        "id": "AVQApZ76Zpn-",
        "colab_type": "text"
      },
      "source": [
        "Nous avons ainsi enlevé `768-740=28` données atypiques qui sont succeptible de biaisé la modélisation."
      ]
    },
    {
      "cell_type": "code",
      "metadata": {
        "scrolled": true,
        "id": "SPhXgMZWZpn_",
        "colab_type": "code",
        "colab": {}
      },
      "source": [
        "fig = plt.figure(figsize=(12, 4))\n",
        "\n",
        "fig.add_subplot(1, 2, 1)\n",
        "sns.distplot(data['Insulin'])\n",
        "\n",
        "fig.add_subplot(1, 2, 2)\n",
        "sns.distplot(data['DiabetesPedigreeFunction'])\n",
        "\n",
        "plt.show()"
      ],
      "execution_count": null,
      "outputs": []
    },
    {
      "cell_type": "code",
      "metadata": {
        "id": "QElU3Mg3ZpoH",
        "colab_type": "code",
        "colab": {}
      },
      "source": [
        "Pregnancies = data['Pregnancies'].value_counts(sort=False)\n",
        "Pregnancies"
      ],
      "execution_count": null,
      "outputs": []
    },
    {
      "cell_type": "code",
      "metadata": {
        "id": "Gad0e3HRZpoP",
        "colab_type": "code",
        "colab": {}
      },
      "source": [
        "Pregnancies.plot(kind='bar')"
      ],
      "execution_count": null,
      "outputs": []
    },
    {
      "cell_type": "code",
      "metadata": {
        "id": "ZYYUYp-nZpoZ",
        "colab_type": "code",
        "colab": {}
      },
      "source": [
        "sns.pairplot(data=data, hue='Outcome')"
      ],
      "execution_count": null,
      "outputs": []
    },
    {
      "cell_type": "code",
      "metadata": {
        "id": "Jm1K309nZpoi",
        "colab_type": "code",
        "colab": {}
      },
      "source": [
        "corr = data.drop(['Outcome'], axis=1).corr()\n",
        "sns.heatmap(corr, xticklabels=corr.columns.values, yticklabels=corr.columns.values)\n",
        "plt.show()"
      ],
      "execution_count": null,
      "outputs": []
    },
    {
      "cell_type": "markdown",
      "metadata": {
        "id": "lPha5IsBZpoq",
        "colab_type": "text"
      },
      "source": [
        "# ACP - Analyse en Composantes Principales\n",
        "L'ACP est une technique de réduction de dimaensions.\n",
        "\n",
        "Nous allons ulitiser l'ACP pour réduire le nombre de dimensions et ainsi visualiser les données en deux dimensions. Nous pourrons ainsi juger les facteurs discriminants de nos variables explicatives."
      ]
    },
    {
      "cell_type": "markdown",
      "metadata": {
        "id": "sFbsyM5TZpos",
        "colab_type": "text"
      },
      "source": [
        "## Centrage et Réduction"
      ]
    },
    {
      "cell_type": "code",
      "metadata": {
        "id": "enxuNgMUZpot",
        "colab_type": "code",
        "colab": {}
      },
      "source": [
        "from sklearn.preprocessing import StandardScaler\n",
        "\n",
        "X = data.iloc[:, :-1]\n",
        "y = data.iloc[:, -1]\n",
        "\n",
        "scaler = StandardScaler()\n",
        "X_scaled = scaler.fit_transform(X)"
      ],
      "execution_count": null,
      "outputs": []
    },
    {
      "cell_type": "code",
      "metadata": {
        "id": "6D_6phgmZpo1",
        "colab_type": "code",
        "colab": {}
      },
      "source": [
        "from sklearn.decomposition import PCA\n",
        "\n",
        "pca = PCA(n_components=4)\n",
        "\n",
        "X_projected = pca.fit_transform(X_scaled)"
      ],
      "execution_count": null,
      "outputs": []
    },
    {
      "cell_type": "code",
      "metadata": {
        "id": "gKYfd91wZpo9",
        "colab_type": "code",
        "colab": {}
      },
      "source": [
        "fig = plt.figure(figsize=(12, 4))\n",
        "\n",
        "fig.add_subplot(1, 2, 1)\n",
        "plt.scatter(X_projected[:, 0], X_projected[:, 1], c=y)\n",
        "plt.xlabel('F1')\n",
        "plt.ylabel('F2')\n",
        "plt.title('Premier plan factoriel')\n",
        "\n",
        "fig.add_subplot(1, 2, 2)\n",
        "plt.scatter(X_projected[:, 2], X_projected[:, 3], c=y)\n",
        "plt.xlabel('F3')\n",
        "plt.ylabel('F4')\n",
        "plt.title('Deuxième plan factoriel')\n",
        "\n",
        "plt.show()"
      ],
      "execution_count": null,
      "outputs": []
    },
    {
      "cell_type": "code",
      "metadata": {
        "id": "OxSJRdn6ZppF",
        "colab_type": "code",
        "colab": {}
      },
      "source": [
        "for i in range(n_features):\n",
        "    ft = data[features[i]]\n",
        "#     print(features[i], ft.min(), ft.mean(), ft.max())\n",
        "    print((ft.max() - ft.min())/10)"
      ],
      "execution_count": null,
      "outputs": []
    },
    {
      "cell_type": "markdown",
      "metadata": {
        "id": "vA0NvryHbxjE",
        "colab_type": "text"
      },
      "source": [
        "# Modélisation"
      ]
    },
    {
      "cell_type": "code",
      "metadata": {
        "id": "YfmQAWvSb0xw",
        "colab_type": "code",
        "colab": {}
      },
      "source": [
        "from sklearn.model_selection import train_test_split\n",
        "from sklearn.preprocessing import StandardScaler\n",
        "\n",
        "from sklearn.ensemble import BaggingClassifier\n",
        "from sklearn.metrics import accuracy_score, f1_score, confusion_matrix"
      ],
      "execution_count": null,
      "outputs": []
    },
    {
      "cell_type": "code",
      "metadata": {
        "id": "Lqzyvk5EcvJQ",
        "colab_type": "code",
        "colab": {}
      },
      "source": [
        "X = data.iloc[:, :-1] # variables\n",
        "y = data.iloc[:, -1] # étiquettes"
      ],
      "execution_count": null,
      "outputs": []
    },
    {
      "cell_type": "code",
      "metadata": {
        "id": "UmaaIaBecrq9",
        "colab_type": "code",
        "colab": {}
      },
      "source": [
        "X_train, X_test, y_train, y_test = train_test_split(X, y, stratify=y, test_size=.2) # 80% pour le jeu d'entraînement"
      ],
      "execution_count": null,
      "outputs": []
    },
    {
      "cell_type": "markdown",
      "metadata": {
        "id": "eWqiuO8Rb7OL",
        "colab_type": "text"
      },
      "source": [
        "## Bagging\n",
        "\n",
        "Le Bagging est méthode ensembliste qui consiste à entraîner plusieurs modèles de manière parallèle.\n",
        "\n",
        "Le Bootstraping est une technique d'échantillonnage utilisée en Statistique. Elle consiste à créer des sous-echantillons de même taille que que l'echantillon de travail. On fait des tirages avec remise."
      ]
    },
    {
      "cell_type": "code",
      "metadata": {
        "id": "efXTusiQb-5-",
        "colab_type": "code",
        "colab": {}
      },
      "source": [
        "# bg = BaggingClassifier(n_estimators=20, bootstrap_features=True)\n",
        "bg = BaggingClassifier(n_estimators=20) # 20 modèles"
      ],
      "execution_count": null,
      "outputs": []
    },
    {
      "cell_type": "code",
      "metadata": {
        "id": "rCWYou2XcCEs",
        "colab_type": "code",
        "colab": {}
      },
      "source": [
        "bg.fit(X_train, y_train)\n",
        "\n",
        "bg.score(X_train, y_train)"
      ],
      "execution_count": null,
      "outputs": []
    },
    {
      "cell_type": "markdown",
      "metadata": {
        "id": "IaJfRUX-cYXj",
        "colab_type": "text"
      },
      "source": [
        "# Évaluatio"
      ]
    },
    {
      "cell_type": "code",
      "metadata": {
        "id": "SfUDTMCacB77",
        "colab_type": "code",
        "colab": {}
      },
      "source": [
        "y_pred = bg.predict(X_test)\n",
        "\n",
        "acc = accuracy_score(y_test, y_pred) \n",
        "f1 = f1_score(y_test, y_pred)\n",
        "confmat = confusion_matrix(y_test, y_pred)\n",
        "\n",
        "print('Accuracy: %0.2f' % acc)\n",
        "print('F1 score: %0.2f' % f1)\n",
        "\n",
        "plt.matshow(confmat, cmap=plt.cm.Greens, alpha=.3)\n",
        "for i in range(confmat.shape[0]):\n",
        "    for j in range(confmat.shape[1]):\n",
        "        plt.text(x=j, y=i, s=confmat[i, j], va='center', ha='center')\n",
        "plt.xlabel('Valeur prédite')\n",
        "plt.ylabel('Vraie valeur')\n",
        "plt.show()"
      ],
      "execution_count": null,
      "outputs": []
    }
  ]
}